{
  "nbformat": 4,
  "nbformat_minor": 0,
  "metadata": {
    "colab": {
      "name": "NetSpeedMeter.ipynb",
      "provenance": [],
      "collapsed_sections": []
    },
    "kernelspec": {
      "name": "python3",
      "display_name": "Python 3"
    },
    "language_info": {
      "name": "python"
    }
  },
  "cells": [
    {
      "cell_type": "code",
      "metadata": {
        "colab": {
          "base_uri": "https://localhost:8080/"
        },
        "id": "R6vuIEIbvtVg",
        "outputId": "92a592cc-559b-44f4-8f90-eb5e8a378d19"
      },
      "source": [
        "pip install speedtest-cli"
      ],
      "execution_count": 1,
      "outputs": [
        {
          "output_type": "stream",
          "text": [
            "Collecting speedtest-cli\n",
            "  Downloading https://files.pythonhosted.org/packages/9f/39/65259b7054368b370d3183762484fa2c779ddc41633894d895f9d1720f45/speedtest_cli-2.1.3-py2.py3-none-any.whl\n",
            "Installing collected packages: speedtest-cli\n",
            "Successfully installed speedtest-cli-2.1.3\n"
          ],
          "name": "stdout"
        }
      ]
    },
    {
      "cell_type": "code",
      "metadata": {
        "colab": {
          "base_uri": "https://localhost:8080/"
        },
        "id": "CgNFFr0iv18G",
        "outputId": "03996ba4-616b-494e-90eb-04808f28d328"
      },
      "source": [
        "import speedtest\n",
        "vi  = speedtest.Speedtest()\n",
        "print(\"Wifi Download Speed is \", vi.download())\n",
        "print(\"Wifi Upload Speed is \", vi.upload())"
      ],
      "execution_count": 2,
      "outputs": [
        {
          "output_type": "stream",
          "text": [
            "Wifi Download Speed is  1451719352.0457933\n",
            "Wifi Upload Speed is  415205793.8286047\n"
          ],
          "name": "stdout"
        }
      ]
    }
  ]
}